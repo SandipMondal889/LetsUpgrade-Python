{
 "cells": [
  {
   "cell_type": "code",
   "execution_count": 2,
   "metadata": {},
   "outputs": [
    {
     "name": "stdout",
     "output_type": "stream",
     "text": [
      "2\n",
      "7\n",
      "1\n",
      "['physics', 'chemistry', 'mathematics']\n",
      "[1, 2, 3, 4, 6, 7]\n"
     ]
    }
   ],
   "source": [
    "#LISTS\n",
    "list1 = ['physics', 'chemistry']\n",
    "list2 = [1, 2, 3, 4, 5, 6, 7 ]\n",
    "print(len(list1))\n",
    "print(max(list2))\n",
    "print(min(list2))\n",
    "list1.append(\"mathematics\")\n",
    "list2.pop(4)\n",
    "print(list1)\n",
    "print(list2)"
   ]
  },
  {
   "cell_type": "code",
   "execution_count": 16,
   "metadata": {},
   "outputs": [
    {
     "name": "stdout",
     "output_type": "stream",
     "text": [
      "Python Programming1\n",
      "12\n",
      "y\n",
      "python programming1 \n",
      "HELLO WORLD!\n"
     ]
    }
   ],
   "source": [
    "#String\n",
    "var1 = 'hello world!'\n",
    "var2 = \"Python Programming1 \"\n",
    "print(var2.strip())\n",
    "print(len(var1))\n",
    "print(max(var2))\n",
    "print(var2.lower())\n",
    "print(var1.upper())"
   ]
  },
  {
   "cell_type": "code",
   "execution_count": 4,
   "metadata": {},
   "outputs": [
    {
     "name": "stdout",
     "output_type": "stream",
     "text": [
      "1\n"
     ]
    },
    {
     "data": {
      "text/plain": [
       "2"
      ]
     },
     "execution_count": 4,
     "metadata": {},
     "output_type": "execute_result"
    }
   ],
   "source": [
    "#Tuple\n",
    "tup1 = ('physics', 'chemistry', 1997, 2000);\n",
    "tup2 = (1, 2, 3, 4, 5 );\n",
    "\n",
    "print(tup1.count(\"physics\"))\n",
    "tup2.index(3)"
   ]
  },
  {
   "cell_type": "code",
   "execution_count": null,
   "metadata": {},
   "outputs": [],
   "source": []
  },
  {
   "cell_type": "code",
   "execution_count": 11,
   "metadata": {},
   "outputs": [
    {
     "name": "stdout",
     "output_type": "stream",
     "text": [
      "False\n",
      "{1, 2, 3, 4, 5, 'January', 'Sandip'}\n",
      "{'Sandip'}\n",
      "{7}\n",
      "{1, 2, 3, 4, 5, 'January'}\n",
      "None\n"
     ]
    }
   ],
   "source": [
    "#Sets\n",
    "st = {\"Sandip\",1,2,2,3,4,5,3,4,}\n",
    "st1 = {\"Sandip\",7}\n",
    "print(st1.issubset(st))\n",
    "st.add(\"January\")\n",
    "print(st)\n",
    "print(st1.intersection(st))\n",
    "print(st1.difference(st))\n",
    "print(st.difference(st1))\n",
    "print(st.difference_update(st1))"
   ]
  },
  {
   "cell_type": "code",
   "execution_count": 15,
   "metadata": {},
   "outputs": [
    {
     "name": "stdout",
     "output_type": "stream",
     "text": [
      "dict_values(['Sandip', 21, 'Mondal'])\n",
      "dict_keys(['Name', 'Age', 'Last Name'])\n",
      "{}\n",
      "{'Name': 'Sandip Mondal', 'Age': 21}\n",
      "{'Name': 'Sandip Mondal', 'Age': 21}\n"
     ]
    },
    {
     "data": {
      "text/plain": [
       "'Sandip Mondal'"
      ]
     },
     "execution_count": 15,
     "metadata": {},
     "output_type": "execute_result"
    }
   ],
   "source": [
    "#dictionary\n",
    "dict = {\"Name\": \"Sandip\", \"Age\": 21, \"Last Name\": \"Mondal\"}\n",
    "print(dict.values())\n",
    "print(dict.keys())\n",
    "dict.clear()\n",
    "print(dict)\n",
    "dict = {\"Name\": \"Sandip Mondal\", \"Age\": 21}\n",
    "print(dict)\n",
    "dict2 = dict.copy()\n",
    "print(dict2)\n",
    "dict.get(\"Name\")"
   ]
  },
  {
   "cell_type": "code",
   "execution_count": null,
   "metadata": {},
   "outputs": [],
   "source": []
  }
 ],
 "metadata": {
  "kernelspec": {
   "display_name": "Python 3",
   "language": "python",
   "name": "python3"
  },
  "language_info": {
   "codemirror_mode": {
    "name": "ipython",
    "version": 3
   },
   "file_extension": ".py",
   "mimetype": "text/x-python",
   "name": "python",
   "nbconvert_exporter": "python",
   "pygments_lexer": "ipython3",
   "version": "3.7.1"
  }
 },
 "nbformat": 4,
 "nbformat_minor": 2
}
