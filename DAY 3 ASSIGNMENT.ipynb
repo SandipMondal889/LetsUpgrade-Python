{
 "cells": [
  {
   "cell_type": "code",
   "execution_count": 1,
   "metadata": {
    "scrolled": true
   },
   "outputs": [
    {
     "name": "stdout",
     "output_type": "stream",
     "text": [
      "enter the altitude : 6500\n",
      "Turn Around \n"
     ]
    }
   ],
   "source": [
    "ft=int(input(\"enter the altitude : \"))\n",
    "if ft<=1000 and ft>=0:\n",
    "    print(\"Safe To Land \")\n",
    "elif ft<=5000:\n",
    "    print(\"Bring Down to 1000 Ft \")\n",
    "elif ft>5000:\n",
    "    print(\"Turn Around \")\n",
    "else :\n",
    "    print(\"Invalid Altitude!!!\")"
   ]
  },
  {
   "cell_type": "code",
   "execution_count": 6,
   "metadata": {},
   "outputs": [
    {
     "name": "stdout",
     "output_type": "stream",
     "text": [
      "1 2 3 5 7 11 13 17 19 23 29 31 37 41 43 47 53 59 61 67 71 73 79 83 89 97 101 103 107 109 113 127 131 137 139 149 151 157 163 167 173 179 181 191 193 197 199 "
     ]
    }
   ],
   "source": [
    "import math\n",
    "f=0\n",
    "for i in range(1,201):\n",
    "    f=0\n",
    "    for j in range(2,int(math.sqrt(i))+1):\n",
    "        if i%j==0:\n",
    "            f=1\n",
    "    if f==0:\n",
    "        print(i,end=\" \")"
   ]
  },
  {
   "cell_type": "code",
   "execution_count": null,
   "metadata": {},
   "outputs": [],
   "source": []
  }
 ],
 "metadata": {
  "kernelspec": {
   "display_name": "Python 3",
   "language": "python",
   "name": "python3"
  },
  "language_info": {
   "codemirror_mode": {
    "name": "ipython",
    "version": 3
   },
   "file_extension": ".py",
   "mimetype": "text/x-python",
   "name": "python",
   "nbconvert_exporter": "python",
   "pygments_lexer": "ipython3",
   "version": "3.7.1"
  }
 },
 "nbformat": 4,
 "nbformat_minor": 2
}
